{
 "cells": [
  {
   "cell_type": "code",
   "execution_count": 1,
   "metadata": {},
   "outputs": [
    {
     "name": "stdout",
     "output_type": "stream",
     "text": [
      "[3, 5, 8, 10]\n",
      "[2, 7, 5, 13]\n",
      "1\n",
      "0\n",
      "5\n"
     ]
    },
    {
     "data": {
      "image/png": "[encoded data removed]",
      "text/plain": [
       "<matplotlib.figure.Figure at 0x7f0683bd40b8>"
      ]
     },
     "metadata": {},
     "output_type": "display_data"
    }
   ],
   "source": [
    "import tensorflow as tf\n",
    "import matplotlib.pyplot as plt\n",
    " \n",
    "x = [3,5,8,10] # variable x\n",
    "y = [2,7,5,13] #variable y\n",
    "xmean=tf.reduce_mean(x)\n",
    "#tf.to_float(xmean, name='ToFloat')\n",
    "\n",
    "ymean=tf.reduce_mean(y)\n",
    "#tf.to_float(ymean, name='ToFloat')\n",
    "\n",
    "covar=0\n",
    "var=0\n",
    "for i in range(0,len(x)):\n",
    "    covar=covar+(x[i]-xmean)*(y[i]-ymean)\n",
    "    var=var+tf.square(x[i]-xmean)\n",
    "\n",
    "teta1=tf.div(covar,var)\n",
    "#tf.to_float(teta1, name='ToFloat')\n",
    "#teta1=tf.div(teta1temp,len(x))\n",
    "teta0=ymean-(xmean*teta1)\n",
    "#tf.to_float(teta0, name='ToFloat')\n",
    "ynew=teta0+teta1*5\n",
    "#tf.to_float(ynew, name='ToFloat')\n",
    "print (x)\n",
    "print (y)\n",
    "with tf.Session() as sess:\n",
    "    print(sess.run(teta1))\n",
    "    print(sess.run(teta0))\n",
    "    print(sess.run(ynew))\n",
    "    writer = tf.summary.FileWriter(\"/tmp/tboard/output1_Vrinda\", sess.graph)\n",
    "    writer.close()\n",
    "plt.plot(x,y) \n",
    "plt.show()"
   ]
  },
  {
   "cell_type": "code",
   "execution_count": null,
   "metadata": {
    "collapsed": true
   },
   "outputs": [],
   "source": []
  },
  {
   "cell_type": "code",
   "execution_count": null,
   "metadata": {
    "collapsed": true
   },
   "outputs": [],
   "source": []
  },
  {
   "cell_type": "code",
   "execution_count": null,
   "metadata": {
    "collapsed": true
   },
   "outputs": [],
   "source": []
  },
  {
   "cell_type": "code",
   "execution_count": null,
   "metadata": {
    "collapsed": true
   },
   "outputs": [],
   "source": []
  }
 ],
 "metadata": {
  "kernelspec": {
   "display_name": "Python 3",
   "language": "python",
   "name": "python3"
  },
  "language_info": {
   "codemirror_mode": {
    "name": "ipython",
    "version": 3
   },
   "file_extension": ".py",
   "mimetype": "text/x-python",
   "name": "python",
   "nbconvert_exporter": "python",
   "pygments_lexer": "ipython3",
   "version": "3.6.1"
  }
 },
 "nbformat": 4,
 "nbformat_minor": 2
}
