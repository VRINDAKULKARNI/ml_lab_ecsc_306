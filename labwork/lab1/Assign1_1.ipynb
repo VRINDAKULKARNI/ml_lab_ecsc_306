{
 "cells": [
  {
   "cell_type": "code",
   "execution_count": 1,
   "metadata": {},
   "outputs": [
    {
     "name": "stdout",
     "output_type": "stream",
     "text": [
      "49\n"
     ]
    }
   ],
   "source": [
    "# (a-b)^2 = a^2 + b^2 - 2ab \n",
    "import tensorflow as tf\n",
    "a=9\n",
    "b=2\n",
    "with tf.name_scope(\"Scope_C\"):\n",
    "    with tf.name_scope(\"assgn1\"):\n",
    "        with tf.name_scope(\"Scope_A\"):\n",
    "            var_a=tf.multiply(a,a)\n",
    "            var_b=tf.multiply(b,b)\n",
    "        var_p=tf.add(var_a,var_b)\n",
    "    with tf.name_scope(\"Scope_B\"):\n",
    "        var_x=tf.multiply(2,a)\n",
    "        var_y=tf.multiply(var_x,b)\n",
    "        \n",
    "    \n",
    "    \n",
    "    var_q=tf.subtract(var_p,var_y)\n",
    "\n",
    "with tf.Session() as sess:\n",
    "    writer = tf.summary.FileWriter(\"/tmp/tboard/assgnb2_1\", sess.graph)\n",
    "    print(sess.run(var_q))\n",
    "    writer.close()\n"
   ]
  },
  {
   "cell_type": "code",
   "execution_count": null,
   "metadata": {
    "collapsed": true
   },
   "outputs": [],
   "source": []
  }
 ],
 "metadata": {
  "kernelspec": {
   "display_name": "Python 3",
   "language": "python",
   "name": "python3"
  },
  "language_info": {
   "codemirror_mode": {
    "name": "ipython",
    "version": 3
   },
   "file_extension": ".py",
   "mimetype": "text/x-python",
   "name": "python",
   "nbconvert_exporter": "python",
   "pygments_lexer": "ipython3",
   "version": "3.6.1"
  }
 },
 "nbformat": 4,
 "nbformat_minor": 2
}
