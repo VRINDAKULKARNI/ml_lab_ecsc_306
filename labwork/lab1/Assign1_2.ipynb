{
 "cells": [
  {
   "cell_type": "code",
   "execution_count": 1,
   "metadata": {},
   "outputs": [
    {
     "name": "stdout",
     "output_type": "stream",
     "text": [
      "4\n"
     ]
    }
   ],
   "source": [
    "\n",
    "# (a-b-c)^2 = a^2 + b^2  + c^2 -2ab -2ca + 2bc \n",
    "\n",
    "import tensorflow as tf\n",
    "a=8\n",
    "b=5\n",
    "c=1\n",
    "\n",
    "with tf.name_scope(\"Scope_2AB\"):\n",
    "    var_x=tf.multiply(2,a)\n",
    "    var_y=tf.multiply(var_x,b)#80\n",
    "        \n",
    "        \n",
    "    with tf.name_scope(\"Scope_ABC\"):\n",
    "        var_a=tf.multiply(a,a)\n",
    "        var_b=tf.multiply(b,b)\n",
    "        var_c=tf.multiply(c,c)\n",
    "        var_ab=tf.add(var_a,var_b)\n",
    "        var_abc=tf.add(var_ab,var_c)#90\n",
    "            \n",
    "    var_sub1=tf.subtract(var_abc,var_y)\n",
    "    \n",
    "with tf.name_scope(\"Scope_2CA\"):\n",
    "    var_p=tf.multiply(2,c)\n",
    "    var_q=tf.multiply(var_p,a)#16\n",
    "    var_sub2=tf.subtract(var_sub1,var_q) \n",
    "    \n",
    "with tf.name_scope(\"Scope_2BC\"):\n",
    "    var_r=tf.multiply(2,b)\n",
    "    var_s=tf.multiply(var_r,c)#10\n",
    "\n",
    "\n",
    "\n",
    "\n",
    "\n",
    "var_abcbc=tf.add(var_sub2,var_s)\n",
    "\n",
    " \n",
    "\n",
    "\n",
    "\n",
    "with tf.Session() as sess:\n",
    "     writer=tf.summary.FileWriter(\"/tmp/tboard/assgnb2_2\",sess.graph)\n",
    "     print(sess.run(var_abcbc))\n",
    "     writer.close()\n",
    "\n"
   ]
  },
  {
   "cell_type": "code",
   "execution_count": null,
   "metadata": {
    "collapsed": true
   },
   "outputs": [],
   "source": []
  }
 ],
 "metadata": {
  "kernelspec": {
   "display_name": "Python 3",
   "language": "python",
   "name": "python3"
  },
  "language_info": {
   "codemirror_mode": {
    "name": "ipython",
    "version": 3
   },
   "file_extension": ".py",
   "mimetype": "text/x-python",
   "name": "python",
   "nbconvert_exporter": "python",
   "pygments_lexer": "ipython3",
   "version": "3.6.1"
  }
 },
 "nbformat": 4,
 "nbformat_minor": 2
}
